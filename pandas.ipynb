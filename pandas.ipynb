{
 "cells": [
  {
   "cell_type": "code",
   "execution_count": 1,
   "metadata": {},
   "outputs": [
    {
     "name": "stdout",
     "output_type": "stream",
     "text": [
      "     Producto  Precio  Unidades Vendidas     Ciudad Genero Comprador  \\\n",
      "0      Laptop    1200                100     Madrid                M   \n",
      "1  Smartphone     800                200  Barcelona                F   \n",
      "2   Audifonos     150                150     Madrid                F   \n",
      "3     Monitor     300                 80   Valencia                M   \n",
      "4     Teclado     100                120     Madrid                F   \n",
      "5       Mouse      50                300  Barcelona                M   \n",
      "\n",
      "   Satisfacción Cliente  \n",
      "0                     5  \n",
      "1                     4  \n",
      "2                     3  \n",
      "3                     4  \n",
      "4                     2  \n",
      "5                     5  \n"
     ]
    }
   ],
   "source": [
    "import pandas as pd\n",
    "\n",
    "datos_ventas = {\n",
    "    'Producto': ['Laptop', 'Smartphone', 'Audifonos', 'Monitor', 'Teclado', 'Mouse'],\n",
    "    'Precio': [1200, 800, 150, 300, 100, 50],\n",
    "    'Unidades Vendidas': [100, 200, 150, 80, 120, 300],\n",
    "    'Ciudad': ['Madrid', 'Barcelona', 'Madrid', 'Valencia', 'Madrid', 'Barcelona'],\n",
    "    'Genero Comprador': ['M','F','F','M','F','M'],\n",
    "    'Satisfacción Cliente': [5,4,3,4,2,5]\n",
    "}\n",
    "\n",
    "df_ventas = pd.DataFrame(datos_ventas)\n",
    "\n",
    "print(df_ventas)\n"
   ]
  }
 ],
 "metadata": {
  "kernelspec": {
   "display_name": "Python 3",
   "language": "python",
   "name": "python3"
  },
  "language_info": {
   "codemirror_mode": {
    "name": "ipython",
    "version": 3
   },
   "file_extension": ".py",
   "mimetype": "text/x-python",
   "name": "python",
   "nbconvert_exporter": "python",
   "pygments_lexer": "ipython3",
   "version": "3.12.4"
  }
 },
 "nbformat": 4,
 "nbformat_minor": 2
}
